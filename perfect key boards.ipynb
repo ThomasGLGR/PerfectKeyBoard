{
 "cells": [
  {
   "cell_type": "code",
   "execution_count": 951,
   "metadata": {
    "collapsed": true
   },
   "outputs": [],
   "source": [
    "fingers=[1 for i in range(8)]\n",
    "alphabet=\"abcdefghijklmnopqrstuvwxyz,.?;\""
   ]
  },
  {
   "cell_type": "code",
   "execution_count": 952,
   "outputs": [],
   "source": [
    "def setKeyboards(alphabetS):\n",
    "    keyCopy=[['a' for i in range(3)] for j in range(8)]\n",
    "    for i in range(3):\n",
    "        keyCopy[3].append('a')\n",
    "        keyCopy[4].append('a')\n",
    "    letters=0\n",
    "    for i in range(len(keyCopy)):\n",
    "        for j in range(len(keyCopy[i])):\n",
    "            keyCopy[i][j]=alphabetS[letters]\n",
    "            letters+=1\n",
    "    return keyCopy"
   ],
   "metadata": {
    "collapsed": false
   }
  },
  {
   "cell_type": "code",
   "execution_count": 953,
   "outputs": [],
   "source": [
    "\n",
    "def addTime(a,b):\n",
    "    c=0\n",
    "    if a==b:\n",
    "        c=0\n",
    "    else:\n",
    "        a,b=min(a,b),max(a,b)\n",
    "    if b-a==3:\n",
    "        c=1\n",
    "    if a == 0 and b == 1:\n",
    "        c=1.032\n",
    "    if a==0 and b==2:\n",
    "        c=2.138\n",
    "    if a==0 and b==4:\n",
    "        c=1.605\n",
    "    if a==0 and b==5:\n",
    "        c=2.661\n",
    "    if a==1 and b==2:\n",
    "        c=1.118\n",
    "    if a==1 and b==3:\n",
    "        c=1.247\n",
    "    if a==1 and b==5:\n",
    "        c=1.803\n",
    "    if a==2 and b==3:\n",
    "        c=2.015\n",
    "    if a==2 and b==4:\n",
    "        c=1.118\n",
    "    if a==2 and b==4:\n",
    "        c=1.118\n",
    "    if a==3 and b==4:\n",
    "        c=1.032\n",
    "    if a==3 and b==5:\n",
    "        c=2.138\n",
    "    if a==4 and b==5:\n",
    "        c=1.118\n",
    "    return float(c)"
   ],
   "metadata": {
    "collapsed": false
   }
  },
  {
   "cell_type": "code",
   "execution_count": 954,
   "outputs": [],
   "source": [
    "def Readtext(text,keyboards):\n",
    "    time =0.000\n",
    "    text=text.lower()\n",
    "    text=list(text)\n",
    "    for l in range(len(text)):\n",
    "        other = True\n",
    "        iGood=0\n",
    "        for i in range(len(keyboards)):\n",
    "            for j in range(len(keyboards[i])):\n",
    "                if text[l]==keyboards[i][j]:\n",
    "                    text[l]=j\n",
    "                    iGood=i\n",
    "                    other=False\n",
    "        if not other:\n",
    "            time+=addTime(text[l],fingers[iGood])\n",
    "            fingers[iGood]=text[l]\n",
    "    return time"
   ],
   "metadata": {
    "collapsed": false
   }
  },
  {
   "cell_type": "code",
   "execution_count": 955,
   "outputs": [],
   "source": [
    "def fillKeyBoards(keymodif):\n",
    "    alphabetCopy=list(alphabet)\n",
    "    inMore=[]\n",
    "    listCar=[]\n",
    "    for i in range(4):\n",
    "        for j in range(len(keymodif[i])):\n",
    "            listCar.append(keymodif[i][j])\n",
    "    for i in range(4,8):\n",
    "        for j in range(len(keymodif[i])):\n",
    "            inMore.append(keymodif[i][j])\n",
    "            for k in range(len(listCar)):\n",
    "                if listCar[k]==keymodif[i][j]:\n",
    "                    keymodif[i][j]='%'\n",
    "    for i in range (len(alphabetCopy)):\n",
    "        for j in range(len(listCar)):\n",
    "            if listCar[j]==alphabetCopy[i]:\n",
    "                alphabetCopy[i]='$'\n",
    "        for k in range(len(inMore)):\n",
    "            if inMore[k]==alphabetCopy[i]:\n",
    "                alphabetCopy[i]='$'\n",
    "    alphabetCopy= [x for x in alphabetCopy if x!='$']\n",
    "    alphabetCopy=''.join(random.sample(alphabetCopy, len(alphabetCopy)))\n",
    "    letter2=0\n",
    "    for i in range(len(keymodif)):\n",
    "       for j in range(len(keymodif[i])):\n",
    "          if keymodif[i][j]=='%':\n",
    "             keymodif[i][j]=alphabetCopy[letter2]\n",
    "             letter2+=1"
   ],
   "metadata": {
    "collapsed": false
   }
  },
  {
   "cell_type": "code",
   "execution_count": 956,
   "outputs": [],
   "source": [
    "def createNewKeyboards(tabFitness,tabKeyboards):\n",
    "    tabFitnessCopy=tabFitness.copy()\n",
    "    tabKeyboardsCopy=tabKeyboards.copy()\n",
    "\n",
    "    for i in range(10):\n",
    "        for j in range(10):\n",
    "          if tabFitnessCopy[i]<=tabFitness[0]:\n",
    "            tabKeyboards[0]=tabKeyboardsCopy[i]\n",
    "            tabFitness[0]=tabFitnessCopy[i]\n",
    "    for i in range(1,6):\n",
    "        tabKeyboards[i][4:]=tabKeyboardsCopy[i+1][4:]\n",
    "        tabKeyboards[i+1][4:]=tabKeyboardsCopy[i][4:]\n",
    "        fillKeyBoards(tabKeyboards[i])\n",
    "    for i in range(6,10):\n",
    "        alphabetShuffle=''.join(random.sample(alphabet, len(alphabet)))\n",
    "        tabKeyboards[i]=setKeyboards(alphabetShuffle)\n",
    "\n",
    "    return tabKeyboards,tabFitness\n",
    "\n"
   ],
   "metadata": {
    "collapsed": false
   }
  },
  {
   "cell_type": "code",
   "execution_count": 957,
   "outputs": [],
   "source": [
    "import random\n",
    "tabKeyboards=[]\n",
    "tabFitness=[]\n",
    "for i in range(10):\n",
    "    alphabetShuffle=''.join(random.sample(alphabet, len(alphabet)))\n",
    "    keyTemp=setKeyboards(alphabetShuffle)\n",
    "    tabKeyboards.append(keyTemp)\n",
    "    tabFitness.append(0.000)"
   ],
   "metadata": {
    "collapsed": false
   }
  },
  {
   "cell_type": "code",
   "execution_count": 958,
   "outputs": [],
   "source": [
    "\n"
   ],
   "metadata": {
    "collapsed": false
   }
  },
  {
   "cell_type": "code",
   "execution_count": 959,
   "outputs": [
    {
     "name": "stdout",
     "output_type": "stream",
     "text": [
      "[22.378999999999998, 20.077, 18.853, 18.853, 18.853, 18.853, 18.853, 18.853, 18.853, 18.853, 18.853, 18.853, 18.853, 18.853, 18.853, 18.853, 18.853, 18.853, 18.853, 18.853, 18.853, 18.853, 18.853, 18.853, 18.853, 18.853, 18.853, 18.853, 18.853, 18.853, 18.853, 18.853, 18.853, 18.853, 18.853, 18.853, 18.853, 18.853, 18.853, 18.853, 18.853, 18.853, 18.853, 18.853, 18.853, 18.853, 18.853, 17.496, 17.496, 17.496, 17.496, 17.496, 17.496, 17.496, 17.496, 17.496, 17.496, 17.496, 17.496, 17.496, 17.496, 17.496, 17.496, 17.496, 17.496, 17.496, 17.496, 17.496, 17.496, 17.496, 17.496, 17.496, 17.496, 17.496, 17.496, 17.496, 17.496, 17.496, 17.496, 17.496, 17.496, 17.496, 17.496, 17.496, 17.496, 17.496, 17.496, 17.496, 17.496, 17.496, 17.496, 17.496, 17.496, 17.496, 17.496, 17.496, 17.496, 17.496, 17.496, 17.496, 17.496, 17.496, 17.496, 17.496, 17.496, 17.496, 17.496, 17.496, 17.496, 17.496, 17.496, 17.496, 17.496, 17.496, 17.496, 17.496, 17.496, 17.496, 17.496, 16.493000000000002, 16.493000000000002, 16.493000000000002, 16.493000000000002, 16.493000000000002, 16.493000000000002, 16.493000000000002, 16.493000000000002, 16.493000000000002, 16.493000000000002, 16.493000000000002, 16.493000000000002, 16.493000000000002, 16.493000000000002, 16.493000000000002, 16.493000000000002, 16.493000000000002, 16.493000000000002, 16.493000000000002, 16.493000000000002, 16.493000000000002, 16.493000000000002, 16.493000000000002, 16.493000000000002, 16.493000000000002, 16.493000000000002, 16.493000000000002, 16.493000000000002, 16.493000000000002, 16.493000000000002, 16.493000000000002, 16.493000000000002, 16.493000000000002, 16.493000000000002, 16.493000000000002, 16.493000000000002, 16.493000000000002, 16.493000000000002, 16.493000000000002, 16.493000000000002, 16.493000000000002, 16.493000000000002, 16.493000000000002, 16.493000000000002, 16.493000000000002, 16.493000000000002, 16.493000000000002, 16.493000000000002, 16.493000000000002, 16.493000000000002, 16.493000000000002, 16.493000000000002, 16.493000000000002, 16.493000000000002, 16.493000000000002, 16.493000000000002, 16.493000000000002, 16.493000000000002, 16.493000000000002, 16.493000000000002, 16.493000000000002, 16.493000000000002, 16.493000000000002, 16.493000000000002, 16.493000000000002, 16.493000000000002, 16.493000000000002, 16.493000000000002, 16.493000000000002, 16.493000000000002, 16.493000000000002, 16.493000000000002, 16.493000000000002, 16.493000000000002, 16.493000000000002, 16.493000000000002, 16.493000000000002, 16.493000000000002, 16.493000000000002, 16.493000000000002, 16.493000000000002, 16.493000000000002, 16.493000000000002, 16.493000000000002, 16.493000000000002, 16.493000000000002, 16.493000000000002, 16.493000000000002, 16.493000000000002, 16.493000000000002, 16.493000000000002, 16.493000000000002, 16.493000000000002, 16.493000000000002, 16.493000000000002, 16.493000000000002, 16.493000000000002, 16.493000000000002, 16.493000000000002, 16.493000000000002, 16.493000000000002, 16.493000000000002, 16.493000000000002, 16.493000000000002, 16.493000000000002, 16.493000000000002, 16.493000000000002, 16.493000000000002, 16.493000000000002, 16.493000000000002, 16.493000000000002, 16.493000000000002, 16.493000000000002, 16.493000000000002, 16.493000000000002, 16.493000000000002, 16.493000000000002, 16.493000000000002, 16.493000000000002, 16.493000000000002, 16.493000000000002, 16.493000000000002, 16.493000000000002, 16.493000000000002, 16.493000000000002, 16.493000000000002, 16.493000000000002, 16.493000000000002, 16.493000000000002, 16.493000000000002, 16.493000000000002, 16.493000000000002, 16.493000000000002, 16.493000000000002, 16.493000000000002, 16.493000000000002, 16.493000000000002, 16.276000000000003, 16.276000000000003, 16.276000000000003, 16.276000000000003, 16.276000000000003, 16.276000000000003, 16.276000000000003, 16.276000000000003, 16.276000000000003, 16.276000000000003, 16.276000000000003, 16.276000000000003, 16.276000000000003, 16.276000000000003, 16.276000000000003, 16.276000000000003, 16.276000000000003, 16.276000000000003, 16.276000000000003, 16.276000000000003, 16.276000000000003, 16.276000000000003, 16.276000000000003, 16.276000000000003, 16.276000000000003, 16.276000000000003, 16.276000000000003, 16.276000000000003, 16.276000000000003, 16.276000000000003, 16.276000000000003, 16.276000000000003, 16.276000000000003, 16.276000000000003, 16.276000000000003, 16.276000000000003, 16.276000000000003, 16.276000000000003, 16.276000000000003, 16.276000000000003, 16.276000000000003, 16.276000000000003, 16.276000000000003, 16.276000000000003, 16.276000000000003, 16.276000000000003, 16.276000000000003, 16.276000000000003, 16.276000000000003, 16.276000000000003, 16.276000000000003, 16.276000000000003, 16.276000000000003, 16.276000000000003, 16.276000000000003, 16.276000000000003, 16.276000000000003, 16.276000000000003, 16.276000000000003, 16.276000000000003, 16.276000000000003, 16.276000000000003, 16.276000000000003, 16.276000000000003, 16.276000000000003, 16.276000000000003, 16.276000000000003, 16.276000000000003, 16.276000000000003, 16.276000000000003, 16.276000000000003, 16.276000000000003, 16.276000000000003, 16.276000000000003, 16.276000000000003, 16.276000000000003, 16.276000000000003, 16.276000000000003, 16.276000000000003, 16.276000000000003, 16.276000000000003, 16.276000000000003, 16.276000000000003, 16.276000000000003, 16.276000000000003, 16.276000000000003, 16.276000000000003, 16.276000000000003, 16.276000000000003, 16.276000000000003, 16.276000000000003, 16.276000000000003, 16.276000000000003, 16.276000000000003, 16.276000000000003, 16.276000000000003, 16.276000000000003, 16.276000000000003, 16.276000000000003, 16.276000000000003, 16.276000000000003, 16.276000000000003, 16.276000000000003, 16.276000000000003, 16.276000000000003, 16.276000000000003, 16.276000000000003, 16.276000000000003, 16.276000000000003, 16.276000000000003, 16.276000000000003, 16.276000000000003, 16.276000000000003, 16.276000000000003, 16.276000000000003, 16.276000000000003, 15.241, 15.241, 15.241, 15.241, 15.241, 15.241, 15.241, 15.241, 15.241, 15.241, 15.241, 15.241, 15.241, 15.241, 15.241, 15.241, 15.241, 15.241, 15.241, 15.241, 15.241, 15.241, 15.241, 15.241, 15.241, 15.241, 15.241, 15.241, 15.241, 15.241, 15.241, 15.241, 15.241, 15.241, 15.241, 15.241, 15.241, 15.241, 15.241, 15.241, 15.241, 15.241, 15.241, 15.241, 15.241, 15.241, 15.241, 15.241, 15.241, 15.241, 15.241, 15.241, 15.241, 15.241, 15.241, 15.241, 15.241, 15.241, 15.241, 15.241, 15.241, 15.241, 15.241, 15.241, 15.241, 15.241, 15.241, 15.241, 15.241, 15.241, 15.241, 15.241, 15.241, 15.241, 15.241, 15.241, 15.241, 15.241, 15.241, 15.241, 15.241, 15.241, 15.241, 15.241, 15.241, 15.241, 15.241, 15.241, 15.241, 15.241, 15.241, 15.241, 15.241, 15.241, 15.241, 15.241, 15.241, 15.241, 15.241, 15.241, 15.241, 15.241, 15.241, 15.241, 15.241, 15.241, 15.241, 15.241, 15.241, 15.241, 15.241, 15.241, 15.241, 15.241, 15.241, 15.241, 15.241, 15.241, 15.241, 15.241, 15.241, 15.241, 15.241, 15.241, 15.241, 15.241, 15.241, 15.241]\n"
     ]
    },
    {
     "data": {
      "text/plain": "<Figure size 640x480 with 1 Axes>",
      "image/png": "[encoded data removed]"
     },
     "metadata": {},
     "output_type": "display_data"
    }
   ],
   "source": [
    "import matplotlib.pyplot as plt\n",
    "ySchema=[]\n",
    "for test in range(500):\n",
    "    for i in range(10):\n",
    "        fingers=[1 for j in range(8)]\n",
    "        tabFitness[i]=Readtext('starfoulah comoment ca va mon reuf?',tabKeyboards[i])\n",
    "    tabKeyboards,tabFitness=createNewKeyboards(tabFitness,tabKeyboards)\n",
    "    if test>20:\n",
    "        plt.plot([xSchema for xSchema in range(test)],ySchema)\n",
    "        plt.xlabel(\"Number of Generations\")\n",
    "        plt.ylabel(\"Time\")\n",
    "    ySchema.append(tabFitness[0])"
   ],
   "metadata": {
    "collapsed": false
   }
  },
  {
   "cell_type": "code",
   "execution_count": 959,
   "outputs": [],
   "source": [],
   "metadata": {
    "collapsed": false
   }
  },
  {
   "cell_type": "markdown",
   "source": [],
   "metadata": {
    "collapsed": false
   }
  },
  {
   "cell_type": "code",
   "execution_count": 959,
   "outputs": [],
   "source": [],
   "metadata": {
    "collapsed": false
   }
  },
  {
   "cell_type": "code",
   "execution_count": 959,
   "outputs": [],
   "source": [],
   "metadata": {
    "collapsed": false
   }
  },
  {
   "cell_type": "code",
   "execution_count": 959,
   "outputs": [],
   "source": [],
   "metadata": {
    "collapsed": false
   }
  }
 ],
 "metadata": {
  "kernelspec": {
   "display_name": "Python 3",
   "language": "python",
   "name": "python3"
  },
  "language_info": {
   "codemirror_mode": {
    "name": "ipython",
    "version": 2
   },
   "file_extension": ".py",
   "mimetype": "text/x-python",
   "name": "python",
   "nbconvert_exporter": "python",
   "pygments_lexer": "ipython2",
   "version": "2.7.6"
  }
 },
 "nbformat": 4,
 "nbformat_minor": 0
}
