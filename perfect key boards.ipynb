{
 "cells": [
  {
   "cell_type": "code",
   "execution_count": 132,
   "metadata": {
    "collapsed": true
   },
   "outputs": [
    {
     "name": "stdout",
     "output_type": "stream",
     "text": [
      "[['a', 'q', 'w'], ['z', 's', 'x'], ['e', 'd', 'c'], ['r', 'f', 'v', 't', 'g', 'b'], ['y', 'h', 'n', 'u', 'j', ','], ['i', 'k', ';'], ['o', 'l', ':'], ['p', 'm', '!']]\n"
     ]
    }
   ],
   "source": [
    "keyboards10=[['a' for i in range(3)] for j in range(8)]\n",
    "fingers=[1 for i in range(8)]\n",
    "alphabet=\"aqwzsxedcrfvtgbyhnuj,ik;ol:pm!\"\n",
    "for i in range(3):\n",
    "    keyboards10[3].append('a')\n",
    "    keyboards10[4].append('a')\n",
    "letters=0\n",
    "for i in range(len(keyboards10)):\n",
    "    for j in range(len(keyboards10[i])):\n",
    "        keyboards10[i][j]=alphabet[letters]\n",
    "        letters+=1\n",
    "print(keyboards10)"
   ]
  },
  {
   "cell_type": "markdown",
   "source": [],
   "metadata": {
    "collapsed": false
   }
  },
  {
   "cell_type": "code",
   "execution_count": 130,
   "outputs": [],
   "source": [
    "\n",
    "def addTime(a,b,time):\n",
    "    c=0\n",
    "    if a==b:\n",
    "        c=0\n",
    "    else:\n",
    "        a,b=min(a,b),max(a,b)\n",
    "    if b-a==3:\n",
    "        c=1\n",
    "    if a == 0 and b == 1:\n",
    "        c=1.032\n",
    "    if a==0 and b==2:\n",
    "        c=2.138\n",
    "    if a==0 and b==4:\n",
    "        c=1.605\n",
    "    if a==0 and b==5:\n",
    "        c=2.661\n",
    "    if a==1 and b==2:\n",
    "        c=1.118\n",
    "    if a==1 and b==3:\n",
    "        c=1.247\n",
    "    if a==1 and b==5:\n",
    "        c=1.803\n",
    "    if a==2 and b==3:\n",
    "        c=2.015\n",
    "    if a==2 and b==4:\n",
    "        c=1.118\n",
    "    if a==2 and b==4:\n",
    "        c=1.118\n",
    "    if a==3 and b==4:\n",
    "        c=1.032\n",
    "    if a==3 and b==5:\n",
    "        c=2.138\n",
    "    if a==4 and b==5:\n",
    "        c=1.118\n",
    "    return float(c)"
   ],
   "metadata": {
    "collapsed": false
   }
  },
  {
   "cell_type": "code",
   "execution_count": 130,
   "outputs": [],
   "source": [],
   "metadata": {
    "collapsed": false
   }
  },
  {
   "cell_type": "code",
   "execution_count": 155,
   "outputs": [],
   "source": [
    "def Readtext(text):\n",
    "    time =0.000\n",
    "    text=list(text)\n",
    "    for l in range(len(text)):\n",
    "        other = True\n",
    "        iGood=0\n",
    "        for i in range(len(keyboards10)):\n",
    "            for j in range(len(keyboards10[i])):\n",
    "                if text[l]==keyboards10[i][j]:\n",
    "                    text[l]=j\n",
    "                    iGood=i\n",
    "                    other=False\n",
    "        if not other:\n",
    "            time+=addTime(text[l],fingers[iGood])\n",
    "            fingers[iGood]=text[l]\n",
    "    print(('%.3f' % time))\n",
    "    return"
   ],
   "metadata": {
    "collapsed": false
   }
  },
  {
   "cell_type": "code",
   "execution_count": 157,
   "outputs": [
    {
     "name": "stdout",
     "output_type": "stream",
     "text": [
      "21.159\n"
     ]
    }
   ],
   "source": [
    "fingers=[1 for i in range(8)]\n",
    "Readtext('Ca marche')\n"
   ],
   "metadata": {
    "collapsed": false
   }
  },
  {
   "cell_type": "code",
   "execution_count": 127,
   "outputs": [],
   "source": [],
   "metadata": {
    "collapsed": false
   }
  },
  {
   "cell_type": "code",
   "execution_count": 50,
   "outputs": [],
   "source": [],
   "metadata": {
    "collapsed": false
   }
  }
 ],
 "metadata": {
  "kernelspec": {
   "display_name": "Python 3",
   "language": "python",
   "name": "python3"
  },
  "language_info": {
   "codemirror_mode": {
    "name": "ipython",
    "version": 2
   },
   "file_extension": ".py",
   "mimetype": "text/x-python",
   "name": "python",
   "nbconvert_exporter": "python",
   "pygments_lexer": "ipython2",
   "version": "2.7.6"
  }
 },
 "nbformat": 4,
 "nbformat_minor": 0
}
